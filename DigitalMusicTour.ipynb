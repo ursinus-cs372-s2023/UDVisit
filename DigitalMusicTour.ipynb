{
 "cells": [
  {
   "cell_type": "markdown",
   "id": "b8f456fb",
   "metadata": {},
   "source": [
    "# A Tour of Digital Audio in Python/Numpy\n",
    "### <a href = \"https://www.ctralie.com\">Chris Tralie</a> "
   ]
  },
  {
   "cell_type": "markdown",
   "id": "912af874",
   "metadata": {},
   "source": [
    "## Bio\n",
    "\n",
    "### Upper Dublin Computer Club President 2005-2007\n",
    "\n",
    "<img src = \"Pics/acsl2007.jpg\" width=\"50%\">\n",
    "\n",
    "### Graduated Upper Dublin 2007\n",
    "\n",
    "<img src = \"Pics/udgrad.jpg\" width=\"50%\">\n",
    "\n",
    "### Princeton Class of 2011, Major in Electrical Engineering + Computer Science\n",
    "\n",
    "<img src = \"Pics/princeton.jpg\" width=\"20%\">\n",
    "\n",
    "### Duke University Ph.D. in Electrical And Computer Engineering, 2017\n",
    "\n",
    "<img src = \"Pics/duke.jpg\" width=\"50%\">\n",
    "\n",
    "### Assistant Professor in Math/CS At Ursinus College Since Fall 2019\n",
    "\n",
    "<img src = \"Pics/seraiah3.jpg\" width=\"50%\">"
   ]
  },
  {
   "cell_type": "markdown",
   "id": "6348e453",
   "metadata": {},
   "source": [
    "# Digital Audio: The Basics\n",
    "\n",
    "I'll be giving some highlights of a course I'm currently teaching to Ursinus undergraduates.  Course web site at <a href = \"https://ursinus-cs372-s2023.github.io/CoursePage/\">this link</a>\n"
   ]
  },
  {
   "cell_type": "code",
   "execution_count": null,
   "id": "cbb3f511",
   "metadata": {},
   "outputs": [],
   "source": [
    "%matplotlib notebook\n",
    "%load_ext autoreload\n",
    "%autoreload 2\n",
    "import numpy as np\n",
    "import matplotlib.pyplot as plt\n",
    "from scipy.io import wavfile\n",
    "import IPython.display as ipd\n",
    "from dsp import *"
   ]
  },
  {
   "cell_type": "markdown",
   "id": "8b17a00a",
   "metadata": {},
   "source": [
    "First, what is audio?  Let's load some in and find out!"
   ]
  },
  {
   "cell_type": "code",
   "execution_count": null,
   "id": "ddc12c7a",
   "metadata": {},
   "outputs": [],
   "source": [
    "sr, x = wavfile.read(\"Audio/femalecountdown.wav\")\n",
    "x = x/32768\n",
    "plt.figure()\n",
    "plt.plot(x)\n",
    "ipd.Audio(x, rate=sr)"
   ]
  },
  {
   "cell_type": "code",
   "execution_count": null,
   "id": "4d59d7f2",
   "metadata": {},
   "outputs": [],
   "source": [
    "# Show sample rate"
   ]
  },
  {
   "cell_type": "code",
   "execution_count": null,
   "id": "9786fbea",
   "metadata": {},
   "outputs": [],
   "source": [
    "# Show slicing"
   ]
  },
  {
   "cell_type": "code",
   "execution_count": null,
   "id": "5b11ca97",
   "metadata": {},
   "outputs": [],
   "source": [
    "# Show reversing"
   ]
  },
  {
   "cell_type": "markdown",
   "id": "47e863c2",
   "metadata": {},
   "source": [
    "### <a href = \"https://ursinus-cs372-s2023.github.io/CoursePage/ClassExercises/Week1/Week1_AudioReverseGame/\">Audio reversing game</a>"
   ]
  },
  {
   "cell_type": "code",
   "execution_count": null,
   "id": "a456ef71",
   "metadata": {},
   "outputs": [],
   "source": [
    "# Show noise"
   ]
  },
  {
   "cell_type": "markdown",
   "id": "9ebfba4d",
   "metadata": {},
   "source": [
    "## Filtering Audio"
   ]
  },
  {
   "cell_type": "code",
   "execution_count": null,
   "id": "4802217d",
   "metadata": {},
   "outputs": [],
   "source": [
    "# Windowed energy\n",
    "def get_energy(x, win):\n",
    "    \"\"\"\n",
    "    Compute the energy in a window around each sample\n",
    "    \n",
    "    Parameters\n",
    "    ----------\n",
    "    x: ndarray(N)\n",
    "        Audio samples\n",
    "    win: int\n",
    "        Window length in which to sum energy\n",
    "    \n",
    "    Returns\n",
    "    -------\n",
    "    ndarray(N): Energy arond each sample\n",
    "    \"\"\"\n",
    "    eng = x**2\n",
    "    w = np.zeros(win//2)\n",
    "    eng = np.concatenate((w, eng, w))\n",
    "    eng = np.cumsum(eng)\n",
    "    return eng[win::] - eng[0:-win]\n",
    "\n",
    "\n",
    "sr, x = wavfile.read(\"Audio/femalecountdown.wav\")\n",
    "x = x/32768\n",
    "eng = get_energy(x, 1000)\n",
    "\n",
    "plt.figure()\n",
    "plt.subplot(211)\n",
    "plt.plot(x)\n",
    "plt.ylabel(\"Audio Waveform\")\n",
    "plt.subplot(212)\n",
    "plt.plot(eng)\n",
    "plt.xlabel(\"Sample Index\")\n",
    "plt.ylabel(\"Energy\")\n",
    "plt.tight_layout()"
   ]
  },
  {
   "cell_type": "code",
   "execution_count": null,
   "id": "f8d77861",
   "metadata": {},
   "outputs": [],
   "source": [
    "# Filter by energy"
   ]
  },
  {
   "cell_type": "code",
   "execution_count": null,
   "id": "43a9e4ca",
   "metadata": {},
   "outputs": [],
   "source": [
    "# Windowed zero crossings\n",
    "def get_zcs(x, win):\n",
    "    \"\"\"\n",
    "    Compute the zero crossings in a window around each sample\n",
    "    \n",
    "    Parameters\n",
    "    ----------\n",
    "    x: ndarray(N)\n",
    "        Audio samples\n",
    "    win: int\n",
    "        Window length in which to sum energy\n",
    "    \n",
    "    Returns\n",
    "    -------\n",
    "    ndarray(N): Zero crossing count arond each sample\n",
    "    \"\"\"\n",
    "    zcs = np.sign(x[1::]) - np.sign(x[0:-1]) == 2\n",
    "    w = np.zeros(win//2)\n",
    "    zcs = np.concatenate((w, [0], zcs, w))\n",
    "    zcs = np.cumsum(zcs)\n",
    "    return zcs[win::] - zcs[0:-win]\n",
    "\n",
    "sr, x = wavfile.read(\"Audio/femalecountdown.wav\")\n",
    "x = x/32768\n",
    "zcs = get_zcs(x, 4000)\n",
    "\n",
    "plt.figure()\n",
    "plt.subplot(211)\n",
    "plt.plot(x)\n",
    "plt.ylabel(\"Audio Waveform\")\n",
    "plt.subplot(212)\n",
    "plt.plot(eng)\n",
    "plt.xlabel(\"Sample Index\")\n",
    "plt.ylabel(\"Zero Crossings\")\n",
    "plt.tight_layout()"
   ]
  },
  {
   "cell_type": "code",
   "execution_count": null,
   "id": "c4fe5e44",
   "metadata": {},
   "outputs": [],
   "source": [
    "# Filter by zero crossings\n"
   ]
  },
  {
   "cell_type": "markdown",
   "id": "3dc68df4",
   "metadata": {},
   "source": [
    "## Periodic Sounds/Pitches\n",
    "\n",
    "Define period, define frequency, and show cosine"
   ]
  },
  {
   "cell_type": "code",
   "execution_count": null,
   "id": "aad6ed24",
   "metadata": {},
   "outputs": [],
   "source": [
    "# Show cosine sampled at a particular period\n",
    "\n",
    "# What do we notice when the frequency goes up?"
   ]
  },
  {
   "cell_type": "markdown",
   "id": "04db44f6",
   "metadata": {},
   "source": [
    "Equation for pitch perception"
   ]
  },
  {
   "cell_type": "code",
   "execution_count": null,
   "id": "c9cf4381",
   "metadata": {},
   "outputs": [],
   "source": [
    "# Make happy birthday tune with cosines"
   ]
  },
  {
   "cell_type": "code",
   "execution_count": null,
   "id": "544cfe15",
   "metadata": {},
   "outputs": [],
   "source": [
    "# Make happy birthday tune with square waves"
   ]
  },
  {
   "cell_type": "markdown",
   "id": "3e16d295",
   "metadata": {},
   "source": [
    "# Convolution / Echoes"
   ]
  },
  {
   "cell_type": "markdown",
   "id": "a4643976",
   "metadata": {},
   "source": [
    "<img src = \"Convolution.gif\">"
   ]
  },
  {
   "cell_type": "code",
   "execution_count": null,
   "id": "ac82ae90",
   "metadata": {},
   "outputs": [],
   "source": [
    "sr, x = wavfile.read(\"Audio/jessiesgirl.wav\")\n",
    "x = x/32768\n",
    "ipd.Audio(x, rate=sr)"
   ]
  },
  {
   "cell_type": "code",
   "execution_count": null,
   "id": "e361193d",
   "metadata": {},
   "outputs": [],
   "source": [
    "# Show example with JFK Tunnel / Jessie's Girl\n",
    "sr, h = wavfile.read(\"Audio/jfktunnel.wav\")\n",
    "h = h/32768\n",
    "ipd.Audio(h, rate=sr)"
   ]
  },
  {
   "cell_type": "code",
   "execution_count": null,
   "id": "01e6e610",
   "metadata": {},
   "outputs": [],
   "source": [
    "from scipy.signal import fftconvolve\n",
    "\n",
    "# Convolve x and h, compare result to x"
   ]
  },
  {
   "cell_type": "markdown",
   "id": "0fc6d30a",
   "metadata": {},
   "source": [
    "### Comb Filter\n",
    "\n",
    "\n"
   ]
  },
  {
   "cell_type": "code",
   "execution_count": null,
   "id": "97e19846",
   "metadata": {},
   "outputs": [],
   "source": [
    "# Example on noise"
   ]
  },
  {
   "cell_type": "code",
   "execution_count": null,
   "id": "be8f084d",
   "metadata": {},
   "outputs": [],
   "source": [
    "# Example on audio\n",
    "sr, x = wavfile.read(\"Audio/robot.wav\")\n",
    "ipd.Audio(x, rate=sr)"
   ]
  },
  {
   "cell_type": "markdown",
   "id": "387bcc73",
   "metadata": {},
   "source": [
    "# Spectrograms \n",
    "\n",
    "\n",
    "### <a href = \"https://musiclab.chromeexperiments.com/spectrogram\">Live spectrogram demo</a>\n"
   ]
  },
  {
   "cell_type": "code",
   "execution_count": null,
   "id": "5710dcad",
   "metadata": {},
   "outputs": [],
   "source": [
    "sr, x = wavfile.read(\"Audio/violincastinets.wav\")\n",
    "x = x/32768\n",
    "win = 2048\n",
    "hop = 512\n",
    "S = stft(x, win, hop)\n",
    "plt.figure()\n",
    "plot_stft(S, sr, hop)\n",
    "plt.ylim([0, 8000])\n",
    "ipd.Audio(x, rate=sr)"
   ]
  },
  {
   "cell_type": "markdown",
   "id": "a53daed7",
   "metadata": {},
   "source": [
    "### Beepy Tunes, aka Hacking Shazam"
   ]
  },
  {
   "cell_type": "code",
   "execution_count": null,
   "id": "27f8ff4d",
   "metadata": {},
   "outputs": [],
   "source": [
    "sr, x = wavfile.read(\"Audio/rr.wav\")"
   ]
  },
  {
   "cell_type": "code",
   "execution_count": null,
   "id": "43be96fe",
   "metadata": {},
   "outputs": [],
   "source": [
    "from scipy import ndimage\n",
    "\n",
    "win = 2048\n",
    "hop = 1024\n",
    "time_win = 8\n",
    "freq_win = 5\n",
    "max_freq = 256\n",
    "\n",
    "S = np.abs(stft(x, win, hop))\n",
    "M = ndimage.maximum_filter(S, size=(freq_win*2+1, time_win*2+1)) == S\n",
    "M = M[0:256, :]\n",
    "I, J = np.meshgrid(np.arange(M.shape[0]), np.arange(M.shape[1]), indexing='ij')\n",
    "I = I[M == 1]\n",
    "J = J[M == 1]\n",
    "\n",
    "plt.figure()\n",
    "plt.imshow(amplitude_to_db(S)[0:max_freq, :], cmap='gray', aspect='auto')\n",
    "plt.scatter(J, I, s=1, c='C1')\n",
    "plt.ylim([0, max_freq])"
   ]
  },
  {
   "cell_type": "code",
   "execution_count": null,
   "id": "9e55fd99",
   "metadata": {},
   "outputs": [],
   "source": [
    "N = x.size\n",
    "t = np.arange(win)/sr\n",
    "y = np.zeros(N)\n",
    "hann_win = 0.5*(1 - np.cos(2*np.pi*np.arange(win)/win))\n",
    "for i, j in zip(I, J):\n",
    "    freq = i*sr/win\n",
    "    blip = np.cos(2*np.pi*freq*t)\n",
    "    j1 = j*hop\n",
    "    L = len(y[j1:j1+win])\n",
    "    y[j1:j1+win] += (hann_win*blip)[0:L]"
   ]
  },
  {
   "cell_type": "code",
   "execution_count": null,
   "id": "c3046850",
   "metadata": {},
   "outputs": [],
   "source": [
    "ipd.Audio(y, rate=sr)"
   ]
  },
  {
   "cell_type": "markdown",
   "id": "d625a5e6",
   "metadata": {},
   "source": [
    "# FM Synthesis (Time Permitting)"
   ]
  },
  {
   "cell_type": "code",
   "execution_count": null,
   "id": "1791b8fd",
   "metadata": {},
   "outputs": [],
   "source": [
    "sr = 44100\n",
    "t = np.arange(sr*2)/sr\n",
    "fc = 440\n",
    "fm = 440\n",
    "I = 4\n",
    "y = np.cos(2*np.pi*fc*t + I*np.sin(2*np.pi*fm*t))\n",
    "ipd.Audio(y, rate=sr)"
   ]
  }
 ],
 "metadata": {
  "kernelspec": {
   "display_name": "Python 3 (ipykernel)",
   "language": "python",
   "name": "python3"
  },
  "language_info": {
   "codemirror_mode": {
    "name": "ipython",
    "version": 3
   },
   "file_extension": ".py",
   "mimetype": "text/x-python",
   "name": "python",
   "nbconvert_exporter": "python",
   "pygments_lexer": "ipython3",
   "version": "3.9.13"
  }
 },
 "nbformat": 4,
 "nbformat_minor": 5
}
