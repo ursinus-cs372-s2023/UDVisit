{
 "cells": [
  {
   "cell_type": "markdown",
   "id": "12d37cff",
   "metadata": {},
   "source": [
    "# A Tour of Digital Audio in Python/Numpy\n",
    "### <a href = \"https://www.ctralie.com\">Chris Tralie</a> "
   ]
  },
  {
   "cell_type": "markdown",
   "id": "77560f49",
   "metadata": {},
   "source": [
    "## Bio\n",
    "\n",
    "### Upper Dublin Computer Club President 2005-2007\n",
    "\n",
    "<img src = \"Pics/acsl2007.jpg\" width=\"50%\">\n",
    "\n",
    "### Graduated Upper Dublin 2007\n",
    "\n",
    "<img src = \"Pics/udgrad.jpg\" width=\"50%\">\n",
    "\n",
    "### Princeton Class of 2011, Major in Electrical Engineering + Computer Science\n",
    "\n",
    "<img src = \"Pics/princeton.jpg\" width=\"20%\">\n",
    "\n",
    "### Duke University Ph.D. in Electrical And Computer Engineering, 2017\n",
    "\n",
    "<img src = \"Pics/duke.jpg\" width=\"50%\">\n",
    "\n",
    "### Assistant Professor in Math/CS At Ursinus College Since Fall 2019\n",
    "\n",
    "<img src = \"Pics/seraiah3.jpg\" width=\"50%\">"
   ]
  },
  {
   "cell_type": "markdown",
   "id": "b25d6f7b",
   "metadata": {},
   "source": [
    "# Digital Audio: The Basics\n",
    "\n",
    "I'll be giving some highlights of a course I'm currently teaching to Ursinus undergraduates.  Course web site at <a href = \"https://ursinus-cs372-s2023.github.io/CoursePage/\">this link</a>\n"
   ]
  },
  {
   "cell_type": "code",
   "execution_count": null,
   "id": "5e823653",
   "metadata": {},
   "outputs": [],
   "source": [
    "%matplotlib notebook\n",
    "import numpy as np\n",
    "import matplotlib.pyplot as plt\n",
    "from scipy.io import wavfile\n",
    "import IPython.display as ipd"
   ]
  },
  {
   "cell_type": "markdown",
   "id": "3a47940c",
   "metadata": {},
   "source": [
    "First, what is audio?  Let's load some in and find out!"
   ]
  },
  {
   "cell_type": "code",
   "execution_count": null,
   "id": "7127aee1",
   "metadata": {},
   "outputs": [],
   "source": [
    "sr, x = wavfile.read(\"Audio/femalecountdown.wav\")\n",
    "x = x/32768\n",
    "plt.figure()\n",
    "plt.plot(x)\n",
    "ipd.Audio(x, rate=sr)"
   ]
  },
  {
   "cell_type": "code",
   "execution_count": null,
   "id": "96bed130",
   "metadata": {},
   "outputs": [],
   "source": [
    "# Show sample rate"
   ]
  },
  {
   "cell_type": "code",
   "execution_count": null,
   "id": "627aac33",
   "metadata": {},
   "outputs": [],
   "source": [
    "# Show slicing"
   ]
  },
  {
   "cell_type": "code",
   "execution_count": null,
   "id": "32efbb43",
   "metadata": {},
   "outputs": [],
   "source": [
    "# Show reversing"
   ]
  },
  {
   "cell_type": "markdown",
   "id": "0cbdd44f",
   "metadata": {},
   "source": [
    "<a href = \"https://ursinus-cs372-s2023.github.io/CoursePage/ClassExercises/Week1/Week1_AudioReverseGame/\">Audio reversing game</a>"
   ]
  },
  {
   "cell_type": "markdown",
   "id": "ffac2d23",
   "metadata": {},
   "source": [
    "## Filtering Audio"
   ]
  },
  {
   "cell_type": "code",
   "execution_count": null,
   "id": "cede9ad5",
   "metadata": {},
   "outputs": [],
   "source": [
    "# Windowed energy\n",
    "def get_energy(x, win):\n",
    "    \"\"\"\n",
    "    Compute the energy in a window around each sample\n",
    "    \n",
    "    Parameters\n",
    "    ----------\n",
    "    x: ndarray(N)\n",
    "        Audio samples\n",
    "    win: int\n",
    "        Window length in which to sum energy\n",
    "    \n",
    "    Returns\n",
    "    -------\n",
    "    ndarray(N): Energy arond each sample\n",
    "    \"\"\"\n",
    "    eng = x**2\n",
    "    w = np.zeros(win//2)\n",
    "    eng = np.concatenate((w, eng, w))\n",
    "    eng = np.cumsum(eng)\n",
    "    return eng[win::] - eng[0:-win]\n",
    "\n",
    "\n",
    "sr, x = wavfile.read(\"Audio/femalecountdown.wav\")\n",
    "x = x/32768\n",
    "eng = get_energy(x, 1000)\n",
    "\n",
    "plt.figure()\n",
    "plt.subplot(211)\n",
    "plt.plot(x)\n",
    "plt.ylabel(\"Audio Waveform\")\n",
    "plt.subplot(212)\n",
    "plt.plot(eng)\n",
    "plt.xlabel(\"Sample Index\")\n",
    "plt.ylabel(\"Energy\")\n",
    "plt.tight_layout()"
   ]
  },
  {
   "cell_type": "code",
   "execution_count": null,
   "id": "2c3a2bce",
   "metadata": {},
   "outputs": [],
   "source": [
    "# Filter by energy"
   ]
  },
  {
   "cell_type": "code",
   "execution_count": null,
   "id": "aa53cc11",
   "metadata": {},
   "outputs": [],
   "source": [
    "# Windowed zero crossings\n",
    "def get_zcs(x, win):\n",
    "    \"\"\"\n",
    "    Compute the zero crossings in a window around each sample\n",
    "    \n",
    "    Parameters\n",
    "    ----------\n",
    "    x: ndarray(N)\n",
    "        Audio samples\n",
    "    win: int\n",
    "        Window length in which to sum energy\n",
    "    \n",
    "    Returns\n",
    "    -------\n",
    "    ndarray(N): Zero crossing count arond each sample\n",
    "    \"\"\"\n",
    "    zcs = np.sign(x[1::]) - np.sign(x[0:-1]) == 2\n",
    "    w = np.zeros(win//2)\n",
    "    zcs = np.concatenate((w, [0], zcs, w))\n",
    "    zcs = np.cumsum(zcs)\n",
    "    return zcs[win::] - zcs[0:-win]\n",
    "\n",
    "sr, x = wavfile.read(\"Audio/femalecountdown.wav\")\n",
    "x = x/32768\n",
    "zcs = get_zcs(x, 4000)\n",
    "\n",
    "plt.figure()\n",
    "plt.subplot(211)\n",
    "plt.plot(x)\n",
    "plt.ylabel(\"Audio Waveform\")\n",
    "plt.subplot(212)\n",
    "plt.plot(eng)\n",
    "plt.xlabel(\"Sample Index\")\n",
    "plt.ylabel(\"Zero Crossings\")\n",
    "plt.tight_layout()"
   ]
  },
  {
   "cell_type": "code",
   "execution_count": null,
   "id": "b039df28",
   "metadata": {},
   "outputs": [],
   "source": [
    "# Filter by zero crossings\n"
   ]
  },
  {
   "cell_type": "markdown",
   "id": "f9d9fad1",
   "metadata": {},
   "source": [
    "## Periodic Sounds/Pitches\n",
    "\n",
    "Define period, define frequency, and show cosine"
   ]
  },
  {
   "cell_type": "code",
   "execution_count": null,
   "id": "d850aafc",
   "metadata": {},
   "outputs": [],
   "source": [
    "# Show cosine sampled at a particular period\n",
    "\n",
    "# What do we notice when the frequency goes up?"
   ]
  },
  {
   "cell_type": "markdown",
   "id": "3734af81",
   "metadata": {},
   "source": [
    "Equation for pitch perception"
   ]
  },
  {
   "cell_type": "code",
   "execution_count": 1,
   "id": "41d8a85c",
   "metadata": {},
   "outputs": [],
   "source": [
    "# Make happy birthday tune with cosines"
   ]
  },
  {
   "cell_type": "code",
   "execution_count": 2,
   "id": "fbf35aeb",
   "metadata": {},
   "outputs": [],
   "source": [
    "# Make happy birthday tune with square waves"
   ]
  },
  {
   "cell_type": "code",
   "execution_count": 3,
   "id": "b48761f1",
   "metadata": {},
   "outputs": [],
   "source": [
    "# Make happy birthday tune with triangle waves"
   ]
  },
  {
   "cell_type": "markdown",
   "id": "182311ef",
   "metadata": {},
   "source": [
    "# Convolution / Echoes"
   ]
  },
  {
   "cell_type": "markdown",
   "id": "0b2a5bb8",
   "metadata": {},
   "source": [
    "<img src = \"Convolution.gif\">"
   ]
  },
  {
   "cell_type": "code",
   "execution_count": null,
   "id": "f5d980f3",
   "metadata": {},
   "outputs": [],
   "source": []
  }
 ],
 "metadata": {
  "kernelspec": {
   "display_name": "Python 3 (ipykernel)",
   "language": "python",
   "name": "python3"
  },
  "language_info": {
   "codemirror_mode": {
    "name": "ipython",
    "version": 3
   },
   "file_extension": ".py",
   "mimetype": "text/x-python",
   "name": "python",
   "nbconvert_exporter": "python",
   "pygments_lexer": "ipython3",
   "version": "3.9.13"
  }
 },
 "nbformat": 4,
 "nbformat_minor": 5
}
